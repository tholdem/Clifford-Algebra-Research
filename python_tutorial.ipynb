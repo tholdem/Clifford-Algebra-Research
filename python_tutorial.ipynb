{
 "cells": [
  {
   "cell_type": "markdown",
   "metadata": {},
   "source": [
    " Let's delve deeper into the use of the * operator for handling arbitrary argument lists in Python functions.\n",
    "Arbitrary Argument Lists (*args)\n",
    "\n",
    "In Python, you can define functions that accept a variable number of arguments using *args. This is useful when you want to pass an unspecified number of arguments to a function. Here’s how it works:"
   ]
  },
  {
   "cell_type": "code",
   "execution_count": 2,
   "metadata": {},
   "outputs": [
    {
     "name": "stdout",
     "output_type": "stream",
     "text": [
      "10\n",
      "60\n"
     ]
    }
   ],
   "source": [
    "def sum_values(*args):\n",
    "    total = 0\n",
    "    for num in args:\n",
    "        total += num\n",
    "    return total\n",
    "\n",
    "result1 = sum_values(1, 2, 3, 4)  # Passing 4 arguments\n",
    "result2 = sum_values(10, 20, 30)  # Passing 3 arguments\n",
    "\n",
    "print(result1)  # Output: 10 (1 + 2 + 3 + 4)\n",
    "print(result2)  # Output: 60 (10 + 20 + 30)"
   ]
  },
  {
   "cell_type": "markdown",
   "metadata": {},
   "source": [
    " In Python, the ** (double asterisk) operator is used for dictionary unpacking and keyword arguments in function definitions. Let's explore each of these uses in detail:\n",
    "Dictionary Unpacking (**kwargs)\n",
    "\n",
    "In Python, you can use ** to unpack dictionaries into keyword arguments in function calls. This is useful when you have a dictionary of key-value pairs and you want to pass them as keyword arguments to a function."
   ]
  },
  {
   "cell_type": "markdown",
   "metadata": {},
   "source": []
  },
  {
   "cell_type": "code",
   "execution_count": 1,
   "metadata": {},
   "outputs": [
    {
     "name": "stdout",
     "output_type": "stream",
     "text": [
      "name: Alice\n",
      "age: 30\n",
      "city: New York\n"
     ]
    }
   ],
   "source": [
    "def print_info(**kwargs):\n",
    "    for key, value in kwargs.items():\n",
    "        print(f\"{key}: {value}\")\n",
    "\n",
    "# Example usage:\n",
    "print_info(name=\"Alice\", age=30, city=\"New York\")\n"
   ]
  },
  {
   "cell_type": "markdown",
   "metadata": {},
   "source": [
    "**kwargs allows flexibility in the number of keyword arguments a function can accept.\n",
    "It captures all additional keyword arguments passed to the function as a dictionary.\n",
    "You can combine **kwargs with normal positional and keyword arguments, but **kwargs must come after all other arguments in the function signature."
   ]
  },
  {
   "cell_type": "markdown",
   "metadata": {},
   "source": [
    "In a function definition, *args must appear before **kwargs.\n",
    "This ordering ensures that Python correctly assigns positional arguments to args and keyword arguments to kwargs."
   ]
  },
  {
   "cell_type": "code",
   "execution_count": 3,
   "metadata": {},
   "outputs": [
    {
     "name": "stdout",
     "output_type": "stream",
     "text": [
      "a = 1\n",
      "b = 2\n",
      "\n",
      "Additional positional arguments (*args):\n",
      "3\n",
      "4\n",
      "\n",
      "Additional keyword arguments (**kwargs):\n",
      "name = Alice\n",
      "age = 30\n"
     ]
    }
   ],
   "source": [
    "def example_function(a, b, *args, **kwargs):\n",
    "    print(f\"a = {a}\")\n",
    "    print(f\"b = {b}\")\n",
    "    \n",
    "    print(\"\\nAdditional positional arguments (*args):\")\n",
    "    for arg in args:\n",
    "        print(arg)\n",
    "    \n",
    "    print(\"\\nAdditional keyword arguments (**kwargs):\")\n",
    "    for key, value in kwargs.items():\n",
    "        print(f\"{key} = {value}\")\n",
    "\n",
    "# Example usage:\n",
    "example_function(1, 2, 3, 4, name='Alice', age=30)\n"
   ]
  },
  {
   "cell_type": "markdown",
   "metadata": {},
   "source": [
    "Let's create a simple example that uses zip, the unpacking operator (*), and list comprehension. We'll combine two lists into a list of tuples, transpose the combined list, and then process the transposed data using list comprehension.\n",
    "Example Scenario\n",
    "\n",
    "We have two lists: one with names and one with ages. We want to:\n",
    "\n",
    "    Pair each name with its corresponding age using zip.\n",
    "    Transpose the paired list using the unpacking operator (*).\n",
    "    Use list comprehension to create a new list that contains a formatted string for each name and age."
   ]
  },
  {
   "cell_type": "code",
   "execution_count": 16,
   "metadata": {},
   "outputs": [
    {
     "name": "stdout",
     "output_type": "stream",
     "text": [
      "Paired List: [('Alice', 25), ('Bob', 30), ('Charlie', 35)]\n",
      "Transposed List: [('Alice', 'Bob', 'Charlie'), (25, 30, 35)]\n",
      "Formatted List: ['Alice is 25 years old', 'Bob is 30 years old', 'Charlie is 35 years old']\n"
     ]
    }
   ],
   "source": [
    "# Two lists: names and ages\n",
    "names = [\"Alice\", \"Bob\", \"Charlie\"]\n",
    "ages = [25, 30, 35]\n",
    "\n",
    "# Step 1: Pair each name with its corresponding age using zip\n",
    "paired_list = list(zip(names, ages))\n",
    "print(\"Paired List:\", paired_list)\n",
    "\n",
    "# Step 2: Transpose the paired list using the unpacking operator (*)\n",
    "transposed_list = list(zip(*paired_list))\n",
    "print(\"Transposed List:\", transposed_list)\n",
    "\n",
    "# Step 3: Use list comprehension to create a new list with formatted strings\n",
    "formatted_list = [f\"{name} is {age} years old\" for name, age in paired_list]\n",
    "print(\"Formatted List:\", formatted_list)\n"
   ]
  },
  {
   "cell_type": "code",
   "execution_count": null,
   "metadata": {},
   "outputs": [],
   "source": []
  },
  {
   "cell_type": "markdown",
   "metadata": {},
   "source": [
    "torch.repeat_interleave(input, repeats, dim=None, *, output_size=None) → Tensor\n",
    "Parameters\n",
    "input (Tensor) – the input tensor.\n",
    "\n",
    "repeats (Tensor or int) – The number of repetitions for each element. repeats is broadcasted to fit the shape of the given axis.\n",
    "\n",
    "dim (int, optional) – The dimension along which to repeat values. By default, use the flattened input array, and return a flat output array.\n",
    "\n",
    "Keyword Arguments\n",
    "output_size (int, optional) – Total output size for the given axis ( e.g. sum of repeats). If given, it will avoid stream synchronization needed to calculate output shape of the tensor."
   ]
  },
  {
   "cell_type": "code",
   "execution_count": 19,
   "metadata": {},
   "outputs": [
    {
     "name": "stdout",
     "output_type": "stream",
     "text": [
      "tensor([1, 1, 2, 2, 3, 3, 4, 4])\n",
      "tensor([[1, 1, 1, 2, 2, 2],\n",
      "        [3, 3, 3, 4, 4, 4]])\n",
      "tensor([[1, 2],\n",
      "        [3, 4],\n",
      "        [3, 4]])\n"
     ]
    },
    {
     "data": {
      "text/plain": [
       "tensor([[1, 2],\n",
       "        [3, 4],\n",
       "        [3, 4]])"
      ]
     },
     "execution_count": 19,
     "metadata": {},
     "output_type": "execute_result"
    }
   ],
   "source": [
    "import torch\n",
    "x = torch.tensor([1, 2, 3])\n",
    "x.repeat_interleave(2)\n",
    "y = torch.tensor([[1, 2], [3, 4]])\n",
    "print(torch.repeat_interleave(y, 2)) # without dim, it flattens array\n",
    "print(torch.repeat_interleave(y, 3, dim=1))\n",
    "print(torch.repeat_interleave(y, torch.tensor([1, 2]), dim=0))\n",
    "torch.repeat_interleave(y, torch.tensor([1, 2]), dim=0, output_size=3)"
   ]
  },
  {
   "cell_type": "markdown",
   "metadata": {},
   "source": [
    "In Python, a leading underscore in front of a function name (or any identifier) serves as a naming convention to indicate that the function is intended for internal use only. This is a common practice to signal to developers that the function is part of the internal implementation of a class or module and is not meant to be used directly by users of the class or module.\n",
    "Key Points about Leading Underscores\n",
    "\n",
    "    Single Leading Underscore (_name):\n",
    "        By convention, a single leading underscore indicates that the function or variable is intended for internal use.\n",
    "        It is a weak \"internal use\" indicator, meaning it is still accessible from outside the module or class but should be used with caution.\n",
    "\n",
    "    Double Leading Underscore (__name):\n",
    "        A double leading underscore triggers name mangling, which means the interpreter changes the name of the variable or function to include the class name. This helps prevent name collisions in subclasses.\n",
    "        For example, __my_var in class MyClass becomes _MyClass__my_var.\n",
    "\n",
    "    Single Trailing Underscore (name_):\n",
    "        This is used to avoid conflicts with Python keywords or built-in functions.\n",
    "        For example, class_ could be used to avoid a conflict with the class keyword.\n",
    "OR\n",
    "        The underscore _ at the end of normal_ indicates that this method operates in-place, meaning it modifies the tensor (self.weight) directly.\n",
    "\n",
    "    Double Leading and Trailing Underscore (name):\n",
    "        These are reserved for special use in the language. Such names are referred to as \"magic\" or \"dunder\" methods and have special meaning, such as __init__ for initializers or __str__ for string representation."
   ]
  },
  {
   "cell_type": "code",
   "execution_count": null,
   "metadata": {},
   "outputs": [],
   "source": [
    "class MyClass:\n",
    "    def __init__(self):\n",
    "        self._internal_state = 0\n",
    "\n",
    "    def _increment_internal_state(self):\n",
    "        self._internal_state += 1\n",
    "\n",
    "    def public_method(self):\n",
    "        self._increment_internal_state()\n",
    "        return self._internal_state\n",
    "\n",
    "# Using the class\n",
    "my_instance = MyClass()\n",
    "print(my_instance.public_method())  # 1\n",
    "print(my_instance.public_method())  # 2\n",
    "\n",
    "# Trying to access internal method directly\n",
    "my_instance._increment_internal_state()  # It's accessible but should be avoided\n",
    "print(my_instance._internal_state)  # 3\n"
   ]
  }
 ],
 "metadata": {
  "kernelspec": {
   "display_name": ".venv",
   "language": "python",
   "name": "python3"
  },
  "language_info": {
   "codemirror_mode": {
    "name": "ipython",
    "version": 3
   },
   "file_extension": ".py",
   "mimetype": "text/x-python",
   "name": "python",
   "nbconvert_exporter": "python",
   "pygments_lexer": "ipython3",
   "version": "3.12.3"
  }
 },
 "nbformat": 4,
 "nbformat_minor": 2
}
